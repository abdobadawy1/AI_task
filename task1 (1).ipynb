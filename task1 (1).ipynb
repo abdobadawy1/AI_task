{
  "nbformat": 4,
  "nbformat_minor": 0,
  "metadata": {
    "colab": {
      "provenance": []
    },
    "kernelspec": {
      "name": "python3",
      "display_name": "Python 3"
    },
    "language_info": {
      "name": "python"
    }
  },
  "cells": [
    {
      "cell_type": "code",
      "execution_count": null,
      "metadata": {
        "id": "3NuPgywVVT-X"
      },
      "outputs": [],
      "source": []
    },
    {
      "cell_type": "markdown",
      "source": [
        "## **1- Write a Python program to find the area of a triangle**"
      ],
      "metadata": {
        "id": "yGQ0PxZIWP0v"
      }
    },
    {
      "cell_type": "code",
      "source": [
        "x=int(input(\"please enter your number in km :\"))\n",
        "y=0.621371*x\n",
        "print(\"Number is >> \",y,\"miles\")"
      ],
      "metadata": {
        "id": "-hO2ACQCX8xA",
        "colab": {
          "base_uri": "https://localhost:8080/"
        },
        "outputId": "d0de93a5-ad3b-4f58-f265-eff4a790beb7"
      },
      "execution_count": 4,
      "outputs": [
        {
          "output_type": "stream",
          "name": "stdout",
          "text": [
            "please enter your number in km :50\n",
            "Number is >>  31.068550000000002 miles\n"
          ]
        }
      ]
    },
    {
      "cell_type": "code",
      "source": [
        "x=int(input(\"enter your number 1:\"))\n",
        "b=int(input(\"enter your number 2:\"))\n",
        "area=0.5*x*b\n",
        "print(\"area of triangle is :\",area)"
      ],
      "metadata": {
        "id": "fVEa_BPoWYPd",
        "colab": {
          "base_uri": "https://localhost:8080/"
        },
        "outputId": "c9bcfbab-d053-48cb-c999-649fa541628c"
      },
      "execution_count": 1,
      "outputs": [
        {
          "output_type": "stream",
          "name": "stdout",
          "text": [
            "enter your number 1:10\n",
            "enter your number 2:5\n",
            "area of triangle is : 25.0\n"
          ]
        }
      ]
    },
    {
      "cell_type": "markdown",
      "source": [
        "# **2- Write a Python program to swap two variables.**\n"
      ],
      "metadata": {
        "id": "3DD6RrL1Wa65"
      }
    },
    {
      "cell_type": "code",
      "source": [
        "x=int(input(\"enter your number (1):\"))\n",
        "y=int(input(\"enter your number (2):\"))\n",
        "temp=x\n",
        "x=y\n",
        "y=temp\n",
        "print(f\"after swap x={x}, y={y}\")"
      ],
      "metadata": {
        "id": "8A-qk-XGWmrK",
        "colab": {
          "base_uri": "https://localhost:8080/"
        },
        "outputId": "7eacbf53-23df-4a25-954c-b55ec5fa483a"
      },
      "execution_count": 2,
      "outputs": [
        {
          "output_type": "stream",
          "name": "stdout",
          "text": [
            "enter your number (1):5\n",
            "enter your number (2):6\n",
            "after swap x=6, y=5\n"
          ]
        }
      ]
    },
    {
      "cell_type": "markdown",
      "source": [
        "# **3-Write a Python program to enter a number from user and convert this number from kilometers to miles.**\n"
      ],
      "metadata": {
        "id": "NXzXheUIXDEf"
      }
    }
  ]
}