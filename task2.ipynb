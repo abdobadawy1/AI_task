{
  "nbformat": 4,
  "nbformat_minor": 0,
  "metadata": {
    "colab": {
      "provenance": []
    },
    "kernelspec": {
      "name": "python3",
      "display_name": "Python 3"
    },
    "language_info": {
      "name": "python"
    }
  },
  "cells": [
    {
      "cell_type": "code",
      "execution_count": null,
      "metadata": {
        "id": "vs_SU3ng0tbN"
      },
      "outputs": [],
      "source": []
    },
    {
      "cell_type": "markdown",
      "source": [
        "\n",
        "# **WAP to enter a number from user and print its absolute value.**"
      ],
      "metadata": {
        "id": "MnWAiH2o0zSa"
      }
    },
    {
      "cell_type": "code",
      "source": [
        "\n",
        "N = int(input(\"Enter your Number: \"))\n",
        "if N < 0:\n",
        "    N = (-1) * N\n",
        "print(\"your number is :\", N)\n"
      ],
      "metadata": {
        "id": "9pWcVyCjUUCo",
        "outputId": "99cd8107-93ac-4097-d1b5-9a595f7c4bb7",
        "colab": {
          "base_uri": "https://localhost:8080/"
        }
      },
      "execution_count": 4,
      "outputs": [
        {
          "output_type": "stream",
          "name": "stdout",
          "text": [
            "Enter your Number: -9\n",
            "your number is : 9\n"
          ]
        }
      ]
    },
    {
      "cell_type": "markdown",
      "source": [
        "# **WAP to enter a year from user and check if it is leap year or not.**"
      ],
      "metadata": {
        "id": "pOnjNwNx03Tr"
      }
    },
    {
      "cell_type": "code",
      "source": [
        "y=int(input(\"Enter your year positives \"))\n",
        "if (y<=0):\n",
        "     print (\"error\")\n",
        "else:\n",
        "    if (y % 4 ==0 and y % 100!=0) or (y % 400==0 ):\n",
        "        print (\"your yaer is leap\")\n",
        "    else:\n",
        "            print(\"year is not leap\")"
      ],
      "metadata": {
        "id": "4PEtUTm51H6x",
        "outputId": "5d9ddc9f-6790-4a74-d3ad-e2301d19f655",
        "colab": {
          "base_uri": "https://localhost:8080/"
        }
      },
      "execution_count": 5,
      "outputs": [
        {
          "output_type": "stream",
          "name": "stdout",
          "text": [
            "Enter your year positives 2000\n",
            "your yaer is leap\n"
          ]
        }
      ]
    },
    {
      "cell_type": "markdown",
      "source": [
        "# **WAP to enter the age of 3 person and print oldest and yougest among them.**"
      ],
      "metadata": {
        "id": "sn-NADUn1VGn"
      }
    },
    {
      "cell_type": "code",
      "source": [
        "\n",
        "age1 = int(input(\"Enter the age 1: \"))\n",
        "age2 = int(input(\"Enter the age 2: \"))\n",
        "age3 = int(input(\"Enter the age 3: \"))\n",
        "\n",
        "if age1 > age2 and age1 > age3:\n",
        "    temp = age1\n",
        "elif age2 > age1 and age2 > age3:\n",
        "    temp = age2\n",
        "else:\n",
        "    temp = age3\n",
        "\n",
        "if age1 < age2 and age1 < age3:\n",
        "    temp2 = age1\n",
        "elif age2 < age1 and age2 < age3:\n",
        "    temp2 = age2\n",
        "else:\n",
        "    temp2 = age3\n",
        "\n",
        "print(\"the oldest age is :\", temp)\n",
        "print(\"the youngest age is:\", temp2)\n"
      ],
      "metadata": {
        "id": "uNGWS1AT1cYP",
        "outputId": "4d88328d-78df-4ccd-d0a8-45d578f49058",
        "colab": {
          "base_uri": "https://localhost:8080/"
        }
      },
      "execution_count": 6,
      "outputs": [
        {
          "output_type": "stream",
          "name": "stdout",
          "text": [
            "Enter the age 1: 10\n",
            "Enter the age 2: 20\n",
            "Enter the age 3: 90\n",
            "the oldest age is : 90\n",
            "the youngest age is: 10\n"
          ]
        }
      ]
    },
    {
      "cell_type": "markdown",
      "source": [
        "# **Write a program that asks the user to enter a series of numbers. The program should ask for numbers until the user enters a negative number. Once the user enters a negative number, the program should stop and print the sum of all the positive numbers entered**\n",
        "# **Example**\n",
        "# **Enter a number: 5**\n",
        "# **Enter a number: 8**\n",
        "# **Enter a number: 12**\n",
        "# **Enter a number: -2**\n",
        "# **The sum of the positive numbers is 25.**"
      ],
      "metadata": {
        "id": "XFRRNGVj1dEw"
      }
    },
    {
      "cell_type": "code",
      "source": [],
      "metadata": {
        "id": "ijp9SzHu2A3p"
      },
      "execution_count": null,
      "outputs": []
    },
    {
      "cell_type": "markdown",
      "source": [
        "# **Write a program that asks the user to enter their name and age. The program should check if the user's age is greater than or equal to 18. If it is, the program should print a message saying they are eligible to vote. Otherwise, the program should print a message saying they are not eligible to vote due to being underage.**"
      ],
      "metadata": {
        "id": "oODCHUj62DxA"
      }
    },
    {
      "cell_type": "code",
      "source": [
        "name = input(\"Enter your name: \")\n",
        "age = int(input(\"Enter your age: \"))\n",
        "if age >= 18:\n",
        "    print(\"Hello\",name, \"you are eligible to vote\")\n",
        "else:\n",
        "    print(\"Sorry\",name, \"you are not eligible to vote\")\n"
      ],
      "metadata": {
        "id": "Svls1cLA2JVA",
        "outputId": "6e863d6a-e436-4229-de7a-b4086090ea6a",
        "colab": {
          "base_uri": "https://localhost:8080/"
        }
      },
      "execution_count": 8,
      "outputs": [
        {
          "output_type": "stream",
          "name": "stdout",
          "text": [
            "Enter your name: abdelrahman\n",
            "Enter your age: 21\n",
            "Hello abdelrahman you are eligible to vote\n"
          ]
        }
      ]
    },
    {
      "cell_type": "markdown",
      "source": [
        "# **Write a Python Program to Find the Factorial of a Number**"
      ],
      "metadata": {
        "id": "2y5o5SqL3nvL"
      }
    },
    {
      "cell_type": "code",
      "source": [
        "num=int(input(\"enter your number :\"))\n",
        "fact=1\n",
        "for i in range(1,num+1):\n",
        "  fact=fact*i\n",
        "print(\"factorial of number\",num,\"is :\",fact)\n"
      ],
      "metadata": {
        "id": "Q_v3ns1D3tgy",
        "outputId": "590d1175-852a-472f-ce45-b37c3567f13e",
        "colab": {
          "base_uri": "https://localhost:8080/"
        }
      },
      "execution_count": 7,
      "outputs": [
        {
          "output_type": "stream",
          "name": "stdout",
          "text": [
            "enter your number :6\n",
            "factorial of number 6 is : 720\n"
          ]
        }
      ]
    }
  ]
}