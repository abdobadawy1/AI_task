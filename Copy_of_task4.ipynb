{
  "cells": [
    {
      "cell_type": "markdown",
      "id": "759d04ba",
      "metadata": {
        "id": "759d04ba"
      },
      "source": [
        "**1-Write a Python program to calculate the length of a string using 2 ways"
      ]
    },
    {
      "cell_type": "code",
      "execution_count": null,
      "id": "e434c950",
      "metadata": {
        "id": "e434c950",
        "outputId": "8f9e482b-c59a-4689-bba5-82358e5c625e",
        "colab": {
          "base_uri": "https://localhost:8080/"
        }
      },
      "outputs": [
        {
          "output_type": "stream",
          "name": "stdout",
          "text": [
            "enter your string abdo\n",
            "4\n"
          ]
        }
      ],
      "source": [
        "s=input(\"enter your string \")\n",
        "len(s)\n",
        "print(len(s))"
      ]
    },
    {
      "cell_type": "code",
      "execution_count": null,
      "id": "7a2dfa32",
      "metadata": {
        "id": "7a2dfa32",
        "outputId": "23e97bd5-02a7-4e76-99c8-b960529d477c",
        "colab": {
          "base_uri": "https://localhost:8080/"
        }
      },
      "outputs": [
        {
          "output_type": "stream",
          "name": "stdout",
          "text": [
            "enter your string \n",
            "abdo\n",
            "4\n"
          ]
        }
      ],
      "source": [
        "\n",
        "\n",
        "s=input(\"enter your string \\n\")\n",
        "def length_s(s):\n",
        "    count=0\n",
        "    for char in s:\n",
        "        count+=1\n",
        "    return count\n",
        "print (length_s(s))\n"
      ]
    },
    {
      "cell_type": "markdown",
      "id": "d7cc9da7",
      "metadata": {
        "id": "d7cc9da7"
      },
      "source": [
        "**2-Write a Python program to get a string made of the first 2 and last 2 characters of a given string. If the string length is less than 2, return the empty string instead (\"##Sample String : 'w3resource'\n",
        "Expected Result : 'w3ce'\n",
        "##Sample String : 'w3'\n",
        "Expected Result : 'w3w3'\n",
        "##Sample String : ' w'\n",
        "Expected Result : Empty String)"
      ]
    },
    {
      "cell_type": "code",
      "execution_count": null,
      "id": "dafa9dd8",
      "metadata": {
        "id": "dafa9dd8",
        "outputId": "15f7ddc6-c4ca-48ad-e23c-dc3960521aaf",
        "colab": {
          "base_uri": "https://localhost:8080/"
        }
      },
      "outputs": [
        {
          "output_type": "stream",
          "name": "stdout",
          "text": [
            "Enter your string:\n",
            "ab\n",
            "Empty String\n"
          ]
        }
      ],
      "source": [
        "\n",
        "s = input(\"Enter your string:\\n\")\n",
        "\n",
        "def get_s(s):\n",
        "    if len(s) <= 2:\n",
        "        return \"Empty String\"\n",
        "    else:\n",
        "        return s[:2] + s[-2:]\n",
        "\n",
        "print(get_s(s))\n"
      ]
    },
    {
      "cell_type": "markdown",
      "id": "1534f956",
      "metadata": {
        "id": "1534f956"
      },
      "source": [
        "**3-Write a Python program to add 'ing' at the end of a given string (length should be at least 3). If the given string already ends with 'ing', add 'ly' instead. If the string length of the given string is less than 3, leave it unchanged. (Sample String : 'abc'\n",
        "Expected Result : 'abcing')"
      ]
    },
    {
      "cell_type": "code",
      "execution_count": null,
      "id": "7ff8cec4",
      "metadata": {
        "id": "7ff8cec4",
        "outputId": "4e580659-8138-4ce9-d7f9-9b9f7a70805d",
        "colab": {
          "base_uri": "https://localhost:8080/"
        }
      },
      "outputs": [
        {
          "output_type": "stream",
          "name": "stdout",
          "text": [
            "Enter a string: abdo\n",
            "Result: abdoing\n"
          ]
        }
      ],
      "source": [
        "def add_ing_or_ly(s):\n",
        "    if len(s) < 3:\n",
        "        return s\n",
        "    elif s.endswith('ing'):\n",
        "        return s + 'ly'\n",
        "    else:\n",
        "        return s + 'ing'\n",
        "\n",
        "s = input(\"Enter a string: \")\n",
        "result = add_ing_or_ly(s)\n",
        "\n",
        "print(\"Result:\", result)\n"
      ]
    },
    {
      "cell_type": "markdown",
      "id": "1c0a6627",
      "metadata": {
        "id": "1c0a6627"
      },
      "source": [
        "**4-Write a Python function that takes a list of words and return the longest word and the length of the longest one\n",
        "(Longest word: Exercises\n",
        "Length of the longest word: 9)"
      ]
    },
    {
      "cell_type": "code",
      "execution_count": null,
      "id": "397341d9",
      "metadata": {
        "id": "397341d9",
        "outputId": "14955c51-d5c9-4266-d9cc-c43f52133176",
        "colab": {
          "base_uri": "https://localhost:8080/"
        }
      },
      "outputs": [
        {
          "output_type": "stream",
          "name": "stdout",
          "text": [
            "Longest word: Exercises\n",
            "Length of the longest word: 9\n"
          ]
        }
      ],
      "source": [
        "def find_longest_word(words):\n",
        "    longest_word = \"\"\n",
        "    max_length = 0\n",
        "\n",
        "    for word in words:\n",
        "        length = 0\n",
        "        for _ in word:\n",
        "            length += 1\n",
        "\n",
        "        if length > max_length:\n",
        "            max_length = length\n",
        "            longest_word = word\n",
        "\n",
        "    return longest_word, max_length\n",
        "\n",
        "words_list = [\"Python\", \"Exercises\", \"code\", \"longest\"]\n",
        "longest_word, length = find_longest_word(words_list)\n",
        "print(\"Longest word:\", longest_word)\n",
        "print(\"Length of the longest word:\", length)\n"
      ]
    },
    {
      "cell_type": "markdown",
      "id": "53a03a6a",
      "metadata": {
        "id": "53a03a6a"
      },
      "source": [
        "**5-Write a Python program to change a given string to a newly string where the first and last chars have been exchanged using 2 ways (Sample String:abca  Expected Result:ebce)"
      ]
    },
    {
      "cell_type": "code",
      "execution_count": null,
      "id": "fd327d2a",
      "metadata": {
        "id": "fd327d2a",
        "outputId": "64b0d708-9e7f-4dfc-ed0d-cc749b4b2d6b",
        "colab": {
          "base_uri": "https://localhost:8080/"
        }
      },
      "outputs": [
        {
          "output_type": "stream",
          "name": "stdout",
          "text": [
            "Result: obda\n"
          ]
        }
      ],
      "source": [
        "def swap_first_last_char(s):\n",
        "    new_s = \"\"\n",
        "    length = 0\n",
        "    for _ in s:\n",
        "        length += 1\n",
        "\n",
        "    if length < 2:\n",
        "        return s\n",
        "\n",
        "    first_char = s[0]\n",
        "    last_char = s[length - 1]\n",
        "\n",
        "    new_s += last_char\n",
        "    i = 1\n",
        "    while i < length - 1:\n",
        "        new_s += s[i]\n",
        "        i += 1\n",
        "    new_s += first_char\n",
        "\n",
        "    return new_s\n",
        "\n",
        "sample = \"abdo\"\n",
        "print(\"Result:\", swap_first_last_char(sample))\n"
      ]
    },
    {
      "cell_type": "code",
      "execution_count": null,
      "id": "285788b4",
      "metadata": {
        "id": "285788b4"
      },
      "outputs": [],
      "source": []
    },
    {
      "cell_type": "markdown",
      "id": "25f89808",
      "metadata": {
        "id": "25f89808"
      },
      "source": [
        "**6-Write a Python program to remove characters that have odd index values in a given string (Sample String:abca Expected Result:ac)"
      ]
    },
    {
      "cell_type": "code",
      "execution_count": null,
      "id": "05959bd7",
      "metadata": {
        "id": "05959bd7",
        "outputId": "4ae1f983-098b-4de8-9050-f0db3a9cbb6d",
        "colab": {
          "base_uri": "https://localhost:8080/"
        }
      },
      "outputs": [
        {
          "output_type": "stream",
          "name": "stdout",
          "text": [
            "Result: ad\n"
          ]
        }
      ],
      "source": [
        "def remove_odd_index_chars(s):\n",
        "    result = \"\"\n",
        "    index = 0\n",
        "\n",
        "    for char in s:\n",
        "        if index % 2 == 0:\n",
        "            result += char\n",
        "        index += 1\n",
        "\n",
        "    return result\n",
        "\n",
        "# مثال\n",
        "sample = \"abdo\"\n",
        "print(\"Result:\", remove_odd_index_chars(sample))\n"
      ]
    },
    {
      "cell_type": "markdown",
      "id": "eb16e898",
      "metadata": {
        "id": "eb16e898"
      },
      "source": [
        "**7-Write a Python program to count the occurrences of each word in a given sentence (Sample String:amr and ahmed are frindes but amr is the tallest Expected Result:2)"
      ]
    },
    {
      "cell_type": "code",
      "execution_count": null,
      "id": "01ce6cf5",
      "metadata": {
        "id": "01ce6cf5",
        "outputId": "9ca5b81c-6980-4cf9-a404-959d166fb2fd",
        "colab": {
          "base_uri": "https://localhost:8080/"
        }
      },
      "outputs": [
        {
          "output_type": "stream",
          "name": "stdout",
          "text": [
            "Result: 2\n"
          ]
        }
      ],
      "source": [
        "def count_word_occurrences_simple(sentence, target):\n",
        "    words = sentence.split()\n",
        "    return words.count(target)\n",
        "\n",
        "sentence = \"amr and ahmed are frindes but amr is the tallest\"\n",
        "print(\"Result:\", count_word_occurrences_simple(sentence, \"amr\"))\n"
      ]
    },
    {
      "cell_type": "markdown",
      "id": "4e8125f1",
      "metadata": {
        "id": "4e8125f1"
      },
      "source": [
        "**8-Write a Python script that takes input from the user and displays that input back in upper and lower cases"
      ]
    },
    {
      "cell_type": "code",
      "execution_count": null,
      "id": "66c8f778",
      "metadata": {
        "id": "66c8f778",
        "outputId": "9ef9470b-b6ea-4f8f-97ab-f7cad13e6da5",
        "colab": {
          "base_uri": "https://localhost:8080/"
        }
      },
      "outputs": [
        {
          "output_type": "stream",
          "name": "stdout",
          "text": [
            "Enter a string: abdo\n",
            "Upper case: ABDO\n",
            "Lower case: abdo\n"
          ]
        }
      ],
      "source": [
        "user_input = input(\"Enter a string: \")\n",
        "\n",
        "print(\"Upper case:\", user_input.upper())\n",
        "\n",
        "print(\"Lower case:\", user_input.lower())\n"
      ]
    },
    {
      "cell_type": "markdown",
      "id": "fcd68aa1",
      "metadata": {
        "id": "fcd68aa1"
      },
      "source": [
        "**9-Write a Python function to reverse a string if its length is a multiple of 4"
      ]
    },
    {
      "cell_type": "code",
      "execution_count": null,
      "id": "0671a931",
      "metadata": {
        "id": "0671a931",
        "outputId": "fd99728b-e1c2-4c78-8f32-a0db2fe24ef9",
        "colab": {
          "base_uri": "https://localhost:8080/"
        }
      },
      "outputs": [
        {
          "output_type": "stream",
          "name": "stdout",
          "text": [
            "dcba\n",
            "hello\n",
            "Hgfedcba\n"
          ]
        }
      ],
      "source": [
        "def reverse_if_multiple_of_four(s):\n",
        "    length = 0\n",
        "    for _ in s:\n",
        "        length += 1\n",
        "\n",
        "    if length % 4 == 0:\n",
        "        reversed_s = \"\"\n",
        "        i = length - 1\n",
        "        while i >= 0:\n",
        "            reversed_s += s[i]\n",
        "            i -= 1\n",
        "        return reversed_s\n",
        "    else:\n",
        "        return s\n",
        "\n",
        "print(reverse_if_multiple_of_four(\"abcd\"))       # -> \"dcba\"\n",
        "print(reverse_if_multiple_of_four(\"hello\"))      # -> \"hello\"\n",
        "print(reverse_if_multiple_of_four(\"abcdefgH\"))   # -> \"Hgfedcba\"\n"
      ]
    },
    {
      "cell_type": "markdown",
      "id": "b577c68d",
      "metadata": {
        "id": "b577c68d"
      },
      "source": [
        "**10- Write a Python program to remove a newline in Python"
      ]
    },
    {
      "cell_type": "code",
      "execution_count": null,
      "id": "e0c6525a",
      "metadata": {
        "id": "e0c6525a",
        "outputId": "e96a4385-6693-4d04-a0a7-c7594b7b0e55",
        "colab": {
          "base_uri": "https://localhost:8080/"
        }
      },
      "outputs": [
        {
          "output_type": "stream",
          "name": "stdout",
          "text": [
            "Without newline: HelloWorld\n"
          ]
        }
      ],
      "source": [
        "text = \"Hello\\nWorld\"\n",
        "cleaned_text = text.replace(\"\\n\", \"\")\n",
        "print(\"Without newline:\", cleaned_text)\n"
      ]
    },
    {
      "cell_type": "markdown",
      "id": "80db5ae0",
      "metadata": {
        "id": "80db5ae0"
      },
      "source": [
        "**11-Write a Python program to check whether a string starts with specified characters"
      ]
    },
    {
      "cell_type": "code",
      "execution_count": null,
      "id": "0cc4e03e",
      "metadata": {
        "id": "0cc4e03e",
        "outputId": "6478f2ea-a2bb-4586-df61-4ba738ff64be",
        "colab": {
          "base_uri": "https://localhost:8080/"
        }
      },
      "outputs": [
        {
          "output_type": "stream",
          "name": "stdout",
          "text": [
            "Starts with specified characters? True\n"
          ]
        }
      ],
      "source": [
        "def starts_with_manual(text, prefix):\n",
        "    i = 0\n",
        "    while i < len(prefix):\n",
        "        if i >= len(text) or text[i] != prefix[i]:\n",
        "            return False\n",
        "        i += 1\n",
        "    return True\n",
        "\n",
        "string = \"Hello World\"\n",
        "start = \"Hello\"\n",
        "print(\"Starts with specified characters?\", starts_with_manual(string, start))\n"
      ]
    },
    {
      "cell_type": "markdown",
      "id": "593a68db",
      "metadata": {
        "id": "593a68db"
      },
      "source": [
        "**12- Write a Python program to add prefix text to all of the lines in a string"
      ]
    },
    {
      "cell_type": "code",
      "execution_count": null,
      "id": "d2e46ada",
      "metadata": {
        "id": "d2e46ada",
        "outputId": "47d28d28-21e8-4f6b-c6c6-54975ec241e0",
        "colab": {
          "base_uri": "https://localhost:8080/"
        }
      },
      "outputs": [
        {
          "output_type": "stream",
          "name": "stdout",
          "text": [
            "--> Line one\n",
            "--> Line two\n",
            "--> Line three\n"
          ]
        }
      ],
      "source": [
        "def add_prefix_to_lines(text, prefix):\n",
        "    lines = text.splitlines()\n",
        "    new_lines = [prefix + line for line in lines]\n",
        "    return '\\n'.join(new_lines)\n",
        "\n",
        "text = \"\"\"Line one\n",
        "Line two\n",
        "Line three\"\"\"\n",
        "prefix = \"--> \"\n",
        "result = add_prefix_to_lines(text, prefix)\n",
        "print(result)\n"
      ]
    },
    {
      "cell_type": "markdown",
      "id": "86fa1543",
      "metadata": {
        "id": "86fa1543"
      },
      "source": [
        "**13-Write a Python program to print the following numbers up to 2 decimal places"
      ]
    },
    {
      "cell_type": "code",
      "execution_count": null,
      "id": "cd4a9d89",
      "metadata": {
        "id": "cd4a9d89",
        "outputId": "43026148-d2c0-4de2-c8a6-09b3432bd58b",
        "colab": {
          "base_uri": "https://localhost:8080/"
        }
      },
      "outputs": [
        {
          "output_type": "stream",
          "name": "stdout",
          "text": [
            "3.14\n",
            "2.72\n",
            "1.41\n",
            "0.33\n"
          ]
        }
      ],
      "source": [
        "def print_two_decimal_places(numbers):\n",
        "    for num in numbers:\n",
        "        print(\"{:.2f}\".format(num))\n",
        "\n",
        "nums = [3.14159, 2.71828, 1.41421, 0.33333]\n",
        "print_two_decimal_places(nums)\n"
      ]
    },
    {
      "cell_type": "markdown",
      "id": "452c0ab0",
      "metadata": {
        "id": "452c0ab0"
      },
      "source": [
        "**14-Write a Python program to print the following numbers up to 2 decimal places with a sign"
      ]
    },
    {
      "cell_type": "code",
      "source": [
        "def print_with_sign(numbers):\n",
        "    for num in numbers:\n",
        "        print(\"{:+.2f}\".format(num))\n",
        "\n",
        "nums = [3.14159, -2.71828, 0, 1.5, -0.3333]\n",
        "print_with_sign(nums)\n"
      ],
      "metadata": {
        "id": "wHq3qIt3xVdd",
        "outputId": "cb656ff3-68fe-4594-d558-5ac7d1370d1c",
        "colab": {
          "base_uri": "https://localhost:8080/"
        }
      },
      "id": "wHq3qIt3xVdd",
      "execution_count": null,
      "outputs": [
        {
          "output_type": "stream",
          "name": "stdout",
          "text": [
            "+3.14\n",
            "-2.72\n",
            "+0.00\n",
            "+1.50\n",
            "-0.33\n"
          ]
        }
      ]
    },
    {
      "cell_type": "code",
      "execution_count": null,
      "id": "73e82479",
      "metadata": {
        "id": "73e82479"
      },
      "outputs": [],
      "source": []
    },
    {
      "cell_type": "markdown",
      "id": "32b1811a",
      "metadata": {
        "id": "32b1811a"
      },
      "source": [
        "**15-Write a Python program to display a number with a comma separator"
      ]
    },
    {
      "cell_type": "code",
      "execution_count": null,
      "id": "f30fc0b6",
      "metadata": {
        "id": "f30fc0b6",
        "outputId": "76297452-8ec8-4267-efdc-9215481eb22b",
        "colab": {
          "base_uri": "https://localhost:8080/"
        }
      },
      "outputs": [
        {
          "output_type": "stream",
          "name": "stdout",
          "text": [
            "1,234,567,890\n"
          ]
        }
      ],
      "source": [
        "def display_with_commas(number):\n",
        "    print(\"{:,}\".format(number))\n",
        "\n",
        "num = 1234567890\n",
        "display_with_commas(num)\n"
      ]
    },
    {
      "cell_type": "markdown",
      "id": "0477f487",
      "metadata": {
        "id": "0477f487"
      },
      "source": [
        "**16-Write a Python program to reverse a string using 2 ways"
      ]
    },
    {
      "cell_type": "code",
      "execution_count": null,
      "id": "aa8beec8",
      "metadata": {
        "id": "aa8beec8",
        "outputId": "71dc0a4d-c8d3-4539-d8e1-ac022327fede",
        "colab": {
          "base_uri": "https://localhost:8080/"
        }
      },
      "outputs": [
        {
          "output_type": "stream",
          "name": "stdout",
          "text": [
            "Reversed (slicing): olleh\n"
          ]
        }
      ],
      "source": [
        "def reverse_string_slicing(s):\n",
        "    return s[::-1]\n",
        "\n",
        "text = \"hello\"\n",
        "print(\"Reversed (slicing):\", reverse_string_slicing(text))\n"
      ]
    },
    {
      "cell_type": "markdown",
      "id": "5afc3166",
      "metadata": {
        "id": "5afc3166"
      },
      "source": [
        " **17-Write a Python program to count repeated characters in a string (hint:use dictionary)"
      ]
    },
    {
      "cell_type": "code",
      "execution_count": null,
      "id": "515a469c",
      "metadata": {
        "id": "515a469c",
        "outputId": "1e1da800-1a40-4454-91ec-d9d4b4cadf3c",
        "colab": {
          "base_uri": "https://localhost:8080/"
        }
      },
      "outputs": [
        {
          "output_type": "stream",
          "name": "stdout",
          "text": [
            "Character 'r' repeated 2 times.\n",
            "Character 'g' repeated 2 times.\n",
            "Character 'm' repeated 2 times.\n"
          ]
        }
      ],
      "source": [
        "def count_repeated_characters(s):\n",
        "    char_count = {}\n",
        "\n",
        "    for char in s:\n",
        "        if char in char_count:\n",
        "            char_count[char] += 1\n",
        "        else:\n",
        "            char_count[char] = 1\n",
        "\n",
        "    for char, count in char_count.items():\n",
        "        if count > 1:\n",
        "            print(f\"Character '{char}' repeated {count} times.\")\n",
        "\n",
        "text = \"programming\"\n",
        "count_repeated_characters(text)\n"
      ]
    },
    {
      "cell_type": "markdown",
      "id": "ae14e4e5",
      "metadata": {
        "id": "ae14e4e5"
      },
      "source": [
        "**18-Write a Python program to find the first non-repeating character in a given string"
      ]
    },
    {
      "cell_type": "code",
      "execution_count": null,
      "id": "d73778e5",
      "metadata": {
        "id": "d73778e5",
        "outputId": "ed181876-059c-45ac-8230-e8a794d6464b",
        "colab": {
          "base_uri": "https://localhost:8080/"
        }
      },
      "outputs": [
        {
          "output_type": "stream",
          "name": "stdout",
          "text": [
            "First non-repeating character: c\n"
          ]
        }
      ],
      "source": [
        "def first_non_repeating_char(s):\n",
        "    char_count = {}\n",
        "\n",
        "    for char in s:\n",
        "        if char in char_count:\n",
        "            char_count[char] += 1\n",
        "        else:\n",
        "            char_count[char] = 1\n",
        "\n",
        "    for char in s:\n",
        "        if char_count[char] == 1:\n",
        "            return char\n",
        "\n",
        "    return None\n",
        "text = \"aabbcdeff\"\n",
        "result = first_non_repeating_char(text)\n",
        "if result:\n",
        "    print(\"First non-repeating character:\", result)\n",
        "else:\n",
        "    print(\"No non-repeating character found.\")\n"
      ]
    },
    {
      "cell_type": "markdown",
      "id": "3adf5669",
      "metadata": {
        "id": "3adf5669"
      },
      "source": [
        "**19-Write a Python program to remove spaces from a given string"
      ]
    },
    {
      "cell_type": "code",
      "execution_count": null,
      "id": "b4f22602",
      "metadata": {
        "id": "b4f22602",
        "outputId": "0e5898f6-0a8d-4cee-e3c4-a42dae7ab0a8",
        "colab": {
          "base_uri": "https://localhost:8080/"
        }
      },
      "outputs": [
        {
          "output_type": "stream",
          "name": "stdout",
          "text": [
            "Without spaces: Pythonisawesome\n"
          ]
        }
      ],
      "source": [
        "def remove_spaces(s):\n",
        "    return s.replace(\" \", \"\")\n",
        "\n",
        "text = \"Python is awesome\"\n",
        "print(\"Without spaces:\", remove_spaces(text))\n"
      ]
    },
    {
      "cell_type": "markdown",
      "id": "734de60c",
      "metadata": {
        "id": "734de60c"
      },
      "source": [
        "**20-Write a Python program to count the number of non-empty substrings of a given string"
      ]
    },
    {
      "cell_type": "code",
      "source": [
        "def count_non_empty_substrings(s):\n",
        "    n = 0\n",
        "    for _ in s:\n",
        "        n += 1\n",
        "    return (n * (n + 1)) // 2\n",
        "\n",
        "text = \"abc\"\n",
        "print(\"Number of non-empty substrings:\", count_non_empty_substrings(text))\n"
      ],
      "metadata": {
        "id": "Al46pUOvy9qd",
        "outputId": "5d641f57-675a-40ab-94fc-213d42b0ed89",
        "colab": {
          "base_uri": "https://localhost:8080/"
        }
      },
      "id": "Al46pUOvy9qd",
      "execution_count": null,
      "outputs": [
        {
          "output_type": "stream",
          "name": "stdout",
          "text": [
            "Number of non-empty substrings: 6\n"
          ]
        }
      ]
    },
    {
      "cell_type": "code",
      "execution_count": null,
      "id": "ef3f2274",
      "metadata": {
        "id": "ef3f2274"
      },
      "outputs": [],
      "source": []
    },
    {
      "cell_type": "markdown",
      "id": "509998e2",
      "metadata": {
        "id": "509998e2"
      },
      "source": [
        "**21-write a Python program to swap first and last element of any list."
      ]
    },
    {
      "cell_type": "code",
      "execution_count": null,
      "id": "68692d7f",
      "metadata": {
        "id": "68692d7f",
        "outputId": "939c37a0-3e58-41e8-f661-ec549fcc3dbf",
        "colab": {
          "base_uri": "https://localhost:8080/"
        }
      },
      "outputs": [
        {
          "output_type": "stream",
          "name": "stdout",
          "text": [
            "Before swap: [10, 20, 30, 40, 50]\n",
            "After swap: [50, 20, 30, 40, 10]\n"
          ]
        }
      ],
      "source": [
        "def swap_first_last(lst):\n",
        "    if len(lst) < 2:\n",
        "        return lst\n",
        "    temp = lst[0]\n",
        "    lst[0] = lst[-1]\n",
        "    lst[-1] = temp\n",
        "    return lst\n",
        "\n",
        "my_list = [10, 20, 30, 40, 50]\n",
        "print(\"Before swap:\", my_list)\n",
        "print(\"After swap:\", swap_first_last(my_list))\n"
      ]
    },
    {
      "cell_type": "markdown",
      "id": "959e0837",
      "metadata": {
        "id": "959e0837"
      },
      "source": [
        "**22-Given a list in Python and provided the positions of the elements, write a program to swap the two elements in the list. (Input : List = [23, 65, 19, 90], pos1 = 1, pos2 = 3\n",
        "Output : [19, 65, 23, 90])"
      ]
    },
    {
      "cell_type": "code",
      "execution_count": null,
      "id": "225d8c6d",
      "metadata": {
        "id": "225d8c6d",
        "outputId": "27bf2689-d019-47fc-ffa2-d214a74aec8d",
        "colab": {
          "base_uri": "https://localhost:8080/"
        }
      },
      "outputs": [
        {
          "output_type": "stream",
          "name": "stdout",
          "text": [
            "Before swap: [23, 65, 19, 90]\n",
            "After swap: [19, 65, 23, 90]\n"
          ]
        }
      ],
      "source": [
        "def swap_elements(lst, pos1, pos2):\n",
        "    temp = lst[pos1 - 1]\n",
        "    lst[pos1 - 1] = lst[pos2 - 1]\n",
        "    lst[pos2 - 1] = temp\n",
        "    return lst\n",
        "\n",
        "my_list = [23, 65, 19, 90]\n",
        "pos1 = 1\n",
        "pos2 = 3\n",
        "\n",
        "print(\"Before swap:\", my_list)\n",
        "print(\"After swap:\", swap_elements(my_list, pos1, pos2))\n"
      ]
    },
    {
      "cell_type": "markdown",
      "id": "66fc6682",
      "metadata": {
        "id": "66fc6682"
      },
      "source": [
        "**23- search for the all ways to know the length of the list"
      ]
    },
    {
      "cell_type": "code",
      "execution_count": null,
      "id": "63ff8b43",
      "metadata": {
        "id": "63ff8b43",
        "outputId": "946e75ed-e276-4b7f-afa2-9fc164dfb5a9",
        "colab": {
          "base_uri": "https://localhost:8080/"
        }
      },
      "outputs": [
        {
          "output_type": "stream",
          "name": "stdout",
          "text": [
            "4\n"
          ]
        }
      ],
      "source": [
        "lst = [10, 20, 30, 40]\n",
        "count = 0\n",
        "for _ in lst:\n",
        "    count += 1\n",
        "print(count)\n"
      ]
    },
    {
      "cell_type": "code",
      "execution_count": null,
      "id": "15f342de",
      "metadata": {
        "id": "15f342de"
      },
      "outputs": [],
      "source": []
    },
    {
      "cell_type": "code",
      "execution_count": null,
      "id": "1a89b9d3",
      "metadata": {
        "id": "1a89b9d3"
      },
      "outputs": [],
      "source": [
        "**25-write a Python code to find the Minimum number of list of numbers."
      ]
    },
    {
      "cell_type": "code",
      "execution_count": null,
      "id": "21f8cbd6",
      "metadata": {
        "id": "21f8cbd6"
      },
      "outputs": [],
      "source": []
    },
    {
      "cell_type": "markdown",
      "id": "96822d96",
      "metadata": {
        "id": "96822d96"
      },
      "source": [
        "**26-search for if an elem is existing in list"
      ]
    },
    {
      "cell_type": "code",
      "execution_count": null,
      "id": "51ca5c9a",
      "metadata": {
        "id": "51ca5c9a",
        "outputId": "bfd99e77-0401-43a9-adf8-22fb30f499c0",
        "colab": {
          "base_uri": "https://localhost:8080/"
        }
      },
      "outputs": [
        {
          "output_type": "stream",
          "name": "stdout",
          "text": [
            "Found\n"
          ]
        }
      ],
      "source": [
        "lst = [10, 20, 30, 40]\n",
        "try:\n",
        "    lst.index(20)\n",
        "    print(\"Found\")\n",
        "except ValueError:\n",
        "    print(\"Not found\")\n"
      ]
    },
    {
      "cell_type": "markdown",
      "id": "d9557da7",
      "metadata": {
        "id": "d9557da7"
      },
      "source": [
        "**27- clear python list using different ways"
      ]
    },
    {
      "cell_type": "code",
      "execution_count": null,
      "id": "b69858a3",
      "metadata": {
        "id": "b69858a3",
        "outputId": "dbb1f2b6-5503-402f-97c4-3320c56f71d4",
        "colab": {
          "base_uri": "https://localhost:8080/"
        }
      },
      "outputs": [
        {
          "output_type": "stream",
          "name": "stdout",
          "text": [
            "[]\n"
          ]
        }
      ],
      "source": [
        "my_list = [1, 2, 3]\n",
        "my_list.clear()\n",
        "print(my_list)\n"
      ]
    },
    {
      "cell_type": "markdown",
      "id": "52160e88",
      "metadata": {
        "id": "52160e88"
      },
      "source": [
        "**28-remove duplicated elements from a list"
      ]
    },
    {
      "cell_type": "code",
      "execution_count": null,
      "id": "5e362228",
      "metadata": {
        "id": "5e362228",
        "outputId": "d2d0960a-2280-42e4-f08c-3c8d58173ec9",
        "colab": {
          "base_uri": "https://localhost:8080/"
        }
      },
      "outputs": [
        {
          "output_type": "stream",
          "name": "stdout",
          "text": [
            "[1, 2, 3, 4]\n"
          ]
        }
      ],
      "source": [
        "my_list = [1, 2, 2, 3, 4, 1]\n",
        "seen = set()\n",
        "unique_list = [x for x in my_list if not (x in seen or seen.add(x))]\n",
        "print(unique_list)  # Output: [1, 2, 3, 4]\n"
      ]
    },
    {
      "cell_type": "markdown",
      "id": "282337f7",
      "metadata": {
        "id": "282337f7"
      },
      "source": [
        "**29-Given list values and keys list, convert these values to key value pairs in form of list of dictionaries. (Input : test_list = [“Gfg”, 3, “is”, 8], key_list = [“name”, “id”]\n",
        "Output : [{‘name’: ‘Gfg’, ‘id’: 3}, {‘name’: ‘is’, ‘id’: 8}])"
      ]
    },
    {
      "cell_type": "code",
      "execution_count": null,
      "id": "4d4e2d28",
      "metadata": {
        "id": "4d4e2d28",
        "outputId": "b823ce91-a6ee-4723-f696-d4e8cf9186be",
        "colab": {
          "base_uri": "https://localhost:8080/"
        }
      },
      "outputs": [
        {
          "output_type": "stream",
          "name": "stdout",
          "text": [
            "[{'name': 'Gfg', 'id': 3}, {'name': 'is', 'id': 8}]\n"
          ]
        }
      ],
      "source": [
        "def convert_to_dict_list(values, keys):\n",
        "    result = []\n",
        "    for i in range(0, len(values), len(keys)):\n",
        "        group = values[i:i+len(keys)]\n",
        "        item_dict = {}\n",
        "        for k in range(len(keys)):\n",
        "            item_dict[keys[k]] = group[k]\n",
        "        result.append(item_dict)\n",
        "    return result\n",
        "\n",
        "test_list = [\"Gfg\", 3, \"is\", 8]\n",
        "key_list = [\"name\", \"id\"]\n",
        "\n",
        "output = convert_to_dict_list(test_list, key_list)\n",
        "print(output)\n"
      ]
    },
    {
      "cell_type": "markdown",
      "id": "c26b6e9f",
      "metadata": {
        "id": "c26b6e9f"
      },
      "source": [
        "**30-write a python program to count unique values inside a list using different ways"
      ]
    },
    {
      "cell_type": "code",
      "execution_count": null,
      "id": "72132667",
      "metadata": {
        "id": "72132667",
        "outputId": "852e026a-8df6-4340-a8b4-5b6a08c07b34",
        "colab": {
          "base_uri": "https://localhost:8080/"
        }
      },
      "outputs": [
        {
          "output_type": "stream",
          "name": "stdout",
          "text": [
            "Unique values: {1, 2, 3, 4, 5}\n",
            "Count: 5\n"
          ]
        }
      ],
      "source": [
        "my_list = [1, 2, 2, 3, 4, 1, 5]\n",
        "unique_values = set(my_list)\n",
        "print(\"Unique values:\", unique_values)\n",
        "print(\"Count:\", len(unique_values))\n"
      ]
    },
    {
      "cell_type": "markdown",
      "id": "fed6677c",
      "metadata": {
        "id": "fed6677c"
      },
      "source": [
        "**31-write a python program Extract all elements with Frequency greater than K (Input : test_list = [4, 6, 4, 3, 3, 4, 3, 4, 3, 8], K = 3\n",
        "Output : [4, 3] )"
      ]
    },
    {
      "cell_type": "code",
      "execution_count": null,
      "id": "d81f3f9d",
      "metadata": {
        "id": "d81f3f9d",
        "outputId": "0ef7e63d-b17e-420b-9953-3140673d0ece",
        "colab": {
          "base_uri": "https://localhost:8080/"
        }
      },
      "outputs": [
        {
          "output_type": "stream",
          "name": "stdout",
          "text": [
            "Elements with frequency greater than K: [4, 3]\n"
          ]
        }
      ],
      "source": [
        "from collections import Counter\n",
        "\n",
        "test_list = [4, 6, 4, 3, 3, 4, 3, 4, 3, 8]\n",
        "\n",
        "K = 3\n",
        "\n",
        "element_count = Counter(test_list)\n",
        "\n",
        "result = [key for key, value in element_count.items() if value > K]\n",
        "\n",
        "print(\"Elements with frequency greater than K:\", result)\n"
      ]
    },
    {
      "cell_type": "markdown",
      "id": "caca5224",
      "metadata": {
        "id": "caca5224"
      },
      "source": [
        "**32-write a python program to find the Strongest Neighbour (Input: 1 2 2 3 4 5\n",
        "Output: 2 2 3 4 5)"
      ]
    },
    {
      "cell_type": "code",
      "execution_count": null,
      "id": "39fbd9b2",
      "metadata": {
        "id": "39fbd9b2",
        "outputId": "0704493e-dc36-4f39-9035-532c776431c1",
        "colab": {
          "base_uri": "https://localhost:8080/"
        }
      },
      "outputs": [
        {
          "output_type": "stream",
          "name": "stdout",
          "text": [
            "Strongest Neighbours: [2, 3, 4, 5]\n"
          ]
        }
      ],
      "source": [
        "nums = [1, 2, 2, 3, 4, 5]\n",
        "\n",
        "strongest_neighbors = []\n",
        "\n",
        "for i in range(1, len(nums)):\n",
        "    if nums[i] > nums[i - 1]:\n",
        "        strongest_neighbors.append(nums[i])\n",
        "\n",
        "print(\"Strongest Neighbours:\", strongest_neighbors)\n"
      ]
    },
    {
      "cell_type": "markdown",
      "id": "a9fa8baf",
      "metadata": {
        "id": "a9fa8baf"
      },
      "source": [
        "**33-write a Python Program to print all Possible Combinations from the three Digits (Input: [1, 2, 3]\n",
        "Output:\n",
        "1 2 3 ##\n",
        "1 3 2 ##\n",
        "2 1 3 ##\n",
        "2 3 1 ##\n",
        "3 1 2 ##\n",
        "3 2 1)"
      ]
    },
    {
      "cell_type": "code",
      "execution_count": null,
      "id": "8c520a76",
      "metadata": {
        "id": "8c520a76",
        "outputId": "b78d0a88-03cd-4083-9084-ed393388bba8",
        "colab": {
          "base_uri": "https://localhost:8080/"
        }
      },
      "outputs": [
        {
          "output_type": "stream",
          "name": "stdout",
          "text": [
            "1 2 3\n",
            "1 3 2\n",
            "2 1 3\n",
            "2 3 1\n",
            "3 1 2\n",
            "3 2 1\n"
          ]
        }
      ],
      "source": [
        "import itertools\n",
        "\n",
        "nums = [1, 2, 3]\n",
        "\n",
        "combinations = itertools.permutations(nums)\n",
        "\n",
        "for combination in combinations:\n",
        "    print(\" \".join(map(str, combination)))\n"
      ]
    },
    {
      "cell_type": "markdown",
      "id": "5288bb89",
      "metadata": {
        "id": "5288bb89"
      },
      "source": [
        "**34-write a Python program to find all the Combinations in the list with the given condition (Input: test_list = [1,2,3]\n",
        "Output:\n",
        " [1], [1, 2], [1, 2, 3], [1, 3]\n",
        " [2], [2, 3], [3])"
      ]
    },
    {
      "cell_type": "code",
      "execution_count": null,
      "id": "59b89646",
      "metadata": {
        "id": "59b89646",
        "outputId": "d7ac951d-2f97-4284-eac1-d6532a6e4a3a",
        "colab": {
          "base_uri": "https://localhost:8080/"
        }
      },
      "outputs": [
        {
          "output_type": "stream",
          "name": "stdout",
          "text": [
            "[1]\n",
            "[2]\n",
            "[3]\n",
            "[1, 2]\n",
            "[1, 3]\n",
            "[2, 3]\n",
            "[1, 2, 3]\n"
          ]
        }
      ],
      "source": [
        "import itertools\n",
        "\n",
        "test_list = [1, 2, 3]\n",
        "\n",
        "combinations = []\n",
        "for r in range(1, len(test_list) + 1):\n",
        "    combinations.extend(itertools.combinations(test_list, r))\n",
        "\n",
        "for combo in combinations:\n",
        "    print(list(combo))\n"
      ]
    },
    {
      "cell_type": "markdown",
      "id": "39973705",
      "metadata": {
        "id": "39973705"
      },
      "source": [
        "**35-write a Python program to get all unique combinations of two Lists (List_1 = [\"a\",\"b\"]\n",
        "List_2 = [1,2]\n",
        "Unique_combination = [[('a',1),('b',2)],[('a',2),('b',1)]] )"
      ]
    },
    {
      "cell_type": "code",
      "execution_count": null,
      "id": "8c4ba22b",
      "metadata": {
        "id": "8c4ba22b",
        "outputId": "5eaf0c55-126a-4699-c2af-364f78278a44",
        "colab": {
          "base_uri": "https://localhost:8080/"
        }
      },
      "outputs": [
        {
          "output_type": "stream",
          "name": "stdout",
          "text": [
            "[[('a', 1), ('b', 2)], [('a', 2), ('b', 1)]]\n"
          ]
        }
      ],
      "source": [
        "import itertools\n",
        "\n",
        "List_1 = [\"a\", \"b\"]\n",
        "List_2 = [1, 2]\n",
        "\n",
        "unique_combinations = []\n",
        "for combo in itertools.permutations(List_2, len(List_1)):\n",
        "    unique_combinations.append(list(zip(List_1, combo)))\n",
        "\n",
        "print(unique_combinations)\n"
      ]
    },
    {
      "cell_type": "markdown",
      "id": "25199af5",
      "metadata": {
        "id": "25199af5"
      },
      "source": [
        "**36-Remove all the occurrences of an element from a list in Python (Input : 1 1 2 3 4 5 1 2 1\n",
        "\n",
        "**Output : 2 3 4 5 2)"
      ]
    },
    {
      "cell_type": "code",
      "execution_count": null,
      "id": "6dc4c2ba",
      "metadata": {
        "id": "6dc4c2ba"
      },
      "outputs": [],
      "source": []
    },
    {
      "cell_type": "markdown",
      "id": "bf1a3c93",
      "metadata": {
        "id": "bf1a3c93"
      },
      "source": [
        "**37-write a python program to Replace index elements with elements in Other List (The original list 1 is : [‘Gfg’, ‘is’, ‘best’] The original list 2 is : [0, 1, 2, 1, 0, 0, 0, 2, 1, 1, 2, 0] The lists after index elements replacements is : [‘Gfg’, ‘is’, ‘best’, ‘is’, ‘Gfg’, ‘Gfg’, ‘Gfg’, ‘best’, ‘is’, ‘is’, ‘best’, ‘Gfg’])"
      ]
    },
    {
      "cell_type": "code",
      "execution_count": null,
      "id": "fdd66a71",
      "metadata": {
        "id": "fdd66a71",
        "outputId": "0823e857-ed22-4adc-8061-490b959498b6",
        "colab": {
          "base_uri": "https://localhost:8080/"
        }
      },
      "outputs": [
        {
          "output_type": "stream",
          "name": "stdout",
          "text": [
            "The lists after index elements replacements is: ['Gfg', 'is', 'best', 'is', 'Gfg', 'Gfg', 'Gfg', 'best', 'is', 'is', 'best', 'Gfg']\n"
          ]
        }
      ],
      "source": [
        "list1 = ['Gfg', 'is', 'best']\n",
        "list2 = [0, 1, 2, 1, 0, 0, 0, 2, 1, 1, 2, 0]\n",
        "\n",
        "result = [list1[i] for i in list2]\n",
        "\n",
        "print(\"The lists after index elements replacements is:\", result)\n"
      ]
    },
    {
      "cell_type": "markdown",
      "id": "af0f56e8",
      "metadata": {
        "id": "af0f56e8"
      },
      "source": [
        "**38- write python program to Retain records with N occurrences of K(Input : test_list = [(4, 5, 5, 4), (5, 4, 3)], K = 5, N = 2\n",
        "Output : [(4, 5, 5, 4)]\n",
        "Input : test_list = [(4, 5, 5, 4), (5, 4, 3)], K = 5, N = 3\n",
        "Output : [] )"
      ]
    },
    {
      "cell_type": "code",
      "execution_count": null,
      "id": "67b06671",
      "metadata": {
        "id": "67b06671",
        "outputId": "70fdbb4d-fa18-452c-850d-02af722e87a1",
        "colab": {
          "base_uri": "https://localhost:8080/"
        }
      },
      "outputs": [
        {
          "output_type": "stream",
          "name": "stdout",
          "text": [
            "Result for test_list1 with K = 5 and N = 2 : [(4, 5, 5, 4)]\n",
            "Result for test_list1 with K = 5 and N = 3 : []\n"
          ]
        }
      ],
      "source": [
        "from collections import Counter\n",
        "\n",
        "def retain_records_with_n_occurrences(test_list, K, N):\n",
        "    result = [tup for tup in test_list if Counter(tup)[K] == N]\n",
        "    return result\n",
        "\n",
        "test_list1 = [(4, 5, 5, 4), (5, 4, 3)]\n",
        "K1, N1 = 5, 2\n",
        "K2, N2 = 5, 3\n",
        "\n",
        "print(\"Result for test_list1 with K =\", K1, \"and N =\", N1, \":\", retain_records_with_n_occurrences(test_list1, K1, N1))\n",
        "print(\"Result for test_list1 with K =\", K2, \"and N =\", N2, \":\", retain_records_with_n_occurrences(test_list1, K2, N2))\n"
      ]
    },
    {
      "cell_type": "markdown",
      "id": "de76f183",
      "metadata": {
        "id": "de76f183"
      },
      "source": [
        "**39-write a Python Program to Sort the list according to the column using lambda\n",
        "array = [[1, 3, 3], [2, 1, 2], [3, 2, 1]]\n",
        "Output :\n",
        "Sorted array specific to column 0, [[1, 3, 3], [2, 1, 2], [3, 2, 1]]\n",
        "Sorted array specific to column 1, [[2, 1, 2], [3, 2, 1], [1, 3, 3]]\n",
        "Sorted array specific to column 2, [[3, 2, 1], [2, 1, 2], [1, 3, 3]]"
      ]
    },
    {
      "cell_type": "code",
      "execution_count": null,
      "id": "dc883308",
      "metadata": {
        "id": "dc883308"
      },
      "outputs": [],
      "source": []
    },
    {
      "cell_type": "code",
      "execution_count": null,
      "id": "d2e7b31f",
      "metadata": {
        "id": "d2e7b31f"
      },
      "outputs": [],
      "source": [
        "**40- write a program to Sort Python Dictionaries by Key or Value\n",
        "Input:\n",
        "{'ravi': 10, 'rajnish': 9, 'sanjeev': 15, 'yash': 2, 'suraj': 32}\n",
        "\n",
        "Output:\n",
        "{'rajnish': 9, 'ravi': 10, 'sanjeev': 15, 'suraj': 32, 'yash': 2}"
      ]
    },
    {
      "cell_type": "code",
      "execution_count": null,
      "id": "a96db4a0",
      "metadata": {
        "id": "a96db4a0"
      },
      "outputs": [],
      "source": []
    },
    {
      "cell_type": "markdown",
      "id": "ec63c23a",
      "metadata": {
        "id": "ec63c23a"
      },
      "source": [
        "**41-write python program to Remove keys with Values Greater than K ( Including mixed values )\n",
        "nput : test_dict = {‘Gfg’ : 3, ‘is’ : 7, ‘best’ : 10, ‘for’ : 6, ‘geeks’ : ‘CS’},\n",
        "K = 7\n",
        "Output : {‘Gfg’ : 3, ‘for’ : 6, ‘geeks’ : ‘CS’}"
      ]
    },
    {
      "cell_type": "code",
      "execution_count": null,
      "id": "e39c3a40",
      "metadata": {
        "id": "e39c3a40",
        "outputId": "2ffae583-2efc-43a2-c3a3-305d64e5a596",
        "colab": {
          "base_uri": "https://localhost:8080/"
        }
      },
      "outputs": [
        {
          "output_type": "stream",
          "name": "stdout",
          "text": [
            "Updated dictionary: {'Gfg': 3, 'is': 7, 'for': 6, 'geeks': 'CS'}\n"
          ]
        }
      ],
      "source": [
        "test_dict = {'Gfg': 3, 'is': 7, 'best': 10, 'for': 6, 'geeks': 'CS'}\n",
        "\n",
        "K = 7\n",
        "\n",
        "result = {key: value for key, value in test_dict.items() if (isinstance(value, int) and value <= K) or not isinstance(value, int)}\n",
        "\n",
        "print(\"Updated dictionary:\", result)\n"
      ]
    },
    {
      "cell_type": "markdown",
      "id": "f143f0fe",
      "metadata": {
        "id": "f143f0fe"
      },
      "source": [
        "**42-Write a Python program to concatenate the following dictionaries to create a new one\n",
        "\n",
        "Sample Dictionary :\n",
        "dic1={1:10, 2:20}\n",
        "dic2={3:30, 4:40}\n",
        "dic3={5:50,6:60}\n",
        "Expected Result : {1: 10, 2: 20, 3: 30, 4: 40, 5: 50, 6: 60}"
      ]
    },
    {
      "cell_type": "code",
      "execution_count": null,
      "id": "74ffdfea",
      "metadata": {
        "id": "74ffdfea",
        "outputId": "853d7e84-4c25-4208-ae1b-fb2fa57bd2c1",
        "colab": {
          "base_uri": "https://localhost:8080/"
        }
      },
      "outputs": [
        {
          "output_type": "stream",
          "name": "stdout",
          "text": [
            "Concatenated dictionary: {1: 10, 2: 20, 3: 30, 4: 40, 5: 50, 6: 60}\n"
          ]
        }
      ],
      "source": [
        "dic1 = {1: 10, 2: 20}\n",
        "dic2 = {3: 30, 4: 40}\n",
        "dic3 = {5: 50, 6: 60}\n",
        "\n",
        "result = {**dic1, **dic2, **dic3}\n",
        "\n",
        "print(\"Concatenated dictionary:\", result)\n"
      ]
    },
    {
      "cell_type": "markdown",
      "id": "fb04c93c",
      "metadata": {
        "id": "fb04c93c"
      },
      "source": [
        "**43-Write a Python program to iterate over dictionaries using for loops"
      ]
    },
    {
      "cell_type": "code",
      "execution_count": null,
      "id": "6aebc470",
      "metadata": {
        "id": "6aebc470",
        "outputId": "d2ac24b5-7e4c-45eb-c62d-38d950d6eb68",
        "colab": {
          "base_uri": "https://localhost:8080/"
        }
      },
      "outputs": [
        {
          "output_type": "stream",
          "name": "stdout",
          "text": [
            "Key: a, Value: 1\n",
            "Key: b, Value: 2\n",
            "Key: c, Value: 3\n"
          ]
        }
      ],
      "source": [
        "sample_dict = {'a': 1, 'b': 2, 'c': 3}\n",
        "\n",
        "for key, value in sample_dict.items():\n",
        "    print(f\"Key: {key}, Value: {value}\")\n"
      ]
    },
    {
      "cell_type": "markdown",
      "id": "5f491a9d",
      "metadata": {
        "id": "5f491a9d"
      },
      "source": [
        "**44- Write a Python script to merge two Python dictionaries"
      ]
    },
    {
      "cell_type": "code",
      "execution_count": null,
      "id": "b8a14028",
      "metadata": {
        "id": "b8a14028",
        "outputId": "0c603467-e970-4ea4-98b4-7b6adac2e226",
        "colab": {
          "base_uri": "https://localhost:8080/"
        }
      },
      "outputs": [
        {
          "output_type": "stream",
          "name": "stdout",
          "text": [
            "Merged Dictionary: {'a': 1, 'b': 2, 'c': 3, 'd': 4}\n"
          ]
        }
      ],
      "source": [
        "dict1 = {'a': 1, 'b': 2}\n",
        "dict2 = {'c': 3, 'd': 4}\n",
        "\n",
        "dict1.update(dict2)\n",
        "\n",
        "print(\"Merged Dictionary:\", dict1)\n"
      ]
    },
    {
      "cell_type": "markdown",
      "id": "216fc72d",
      "metadata": {
        "id": "216fc72d"
      },
      "source": [
        "**45-Write a Python program to get the maximum and minimum values of a dictionary values"
      ]
    },
    {
      "cell_type": "code",
      "execution_count": null,
      "id": "d6883f5f",
      "metadata": {
        "id": "d6883f5f",
        "outputId": "a317aa96-13cd-4606-d9d6-865a88016404",
        "colab": {
          "base_uri": "https://localhost:8080/"
        }
      },
      "outputs": [
        {
          "output_type": "stream",
          "name": "stdout",
          "text": [
            "Maximum Value: 100\n",
            "Minimum Value: 4\n"
          ]
        }
      ],
      "source": [
        "my_dict = {'a': 10, 'b': 20, 'c': 4, 'd': 100}\n",
        "\n",
        "max_value = max(my_dict.values())\n",
        "min_value = min(my_dict.values())\n",
        "\n",
        "print(\"Maximum Value:\", max_value)\n",
        "print(\"Minimum Value:\", min_value)\n"
      ]
    },
    {
      "cell_type": "markdown",
      "id": "b6a53011",
      "metadata": {
        "id": "b6a53011"
      },
      "source": [
        "**46- Write a Python program to drop empty items from a given dictionary.\n",
        "Original Dictionary:\n",
        "{'c1': 'Red', 'c2': 'Green', 'c3': None}\n",
        "New Dictionary after dropping empty items:\n",
        "{'c1': 'Red', 'c2': 'Green'}"
      ]
    },
    {
      "cell_type": "code",
      "execution_count": null,
      "id": "b5c6fecf",
      "metadata": {
        "id": "b5c6fecf"
      },
      "outputs": [],
      "source": []
    },
    {
      "cell_type": "markdown",
      "id": "46d718c7",
      "metadata": {
        "id": "46d718c7"
      },
      "source": [
        "**47-Write a Python program to create a tuple of numbers and print one item"
      ]
    },
    {
      "cell_type": "code",
      "execution_count": null,
      "id": "13216ff5",
      "metadata": {
        "id": "13216ff5",
        "outputId": "82b99987-ec0a-4e8a-f149-9918bb3b8cde",
        "colab": {
          "base_uri": "https://localhost:8080/"
        }
      },
      "outputs": [
        {
          "output_type": "stream",
          "name": "stdout",
          "text": [
            "The first item in the tuple is: 10\n"
          ]
        }
      ],
      "source": [
        "num_tuple = (10, 20, 30, 40, 50)\n",
        "\n",
        "print(\"The first item in the tuple is:\", num_tuple[0])\n"
      ]
    },
    {
      "cell_type": "markdown",
      "id": "2be5b56b",
      "metadata": {
        "id": "2be5b56b"
      },
      "source": [
        "**48-Write a Python program to unpack a tuple into several variables"
      ]
    },
    {
      "cell_type": "code",
      "execution_count": null,
      "id": "595f44be",
      "metadata": {
        "id": "595f44be",
        "outputId": "a498f1c4-d54c-4cf1-d361-021bd55be615",
        "colab": {
          "base_uri": "https://localhost:8080/"
        }
      },
      "outputs": [
        {
          "output_type": "stream",
          "name": "stdout",
          "text": [
            "a = 10\n",
            "b = 20\n",
            "c = 30\n",
            "d = 40\n"
          ]
        }
      ],
      "source": [
        "my_tuple = (10, 20, 30, 40)\n",
        "\n",
        "a, b, c, d = my_tuple\n",
        "\n",
        "print(\"a =\", a)\n",
        "print(\"b =\", b)\n",
        "print(\"c =\", c)\n",
        "print(\"d =\", d)\n"
      ]
    },
    {
      "cell_type": "markdown",
      "id": "392388a7",
      "metadata": {
        "id": "392388a7"
      },
      "source": [
        "**49-Write a Python program to add an item to a tuple"
      ]
    },
    {
      "cell_type": "code",
      "execution_count": null,
      "id": "54cc092e",
      "metadata": {
        "id": "54cc092e"
      },
      "outputs": [],
      "source": []
    },
    {
      "cell_type": "markdown",
      "id": "3e8fd124",
      "metadata": {
        "id": "3e8fd124"
      },
      "source": [
        "**50-Write a Python program to convert a tuple to a string"
      ]
    },
    {
      "cell_type": "code",
      "execution_count": null,
      "id": "92a71ddc",
      "metadata": {
        "id": "92a71ddc",
        "outputId": "73ad0d26-7276-489f-b9a3-25ad9803f3d9",
        "colab": {
          "base_uri": "https://localhost:8080/"
        }
      },
      "outputs": [
        {
          "output_type": "stream",
          "name": "stdout",
          "text": [
            "Converted string: python\n"
          ]
        }
      ],
      "source": [
        "sample_tuple = ('p', 'y', 't', 'h', 'o', 'n')\n",
        "\n",
        "converted_string = ''.join(sample_tuple)\n",
        "\n",
        "print(\"Converted string:\", converted_string)\n"
      ]
    },
    {
      "cell_type": "markdown",
      "id": "f4f64ef4",
      "metadata": {
        "id": "f4f64ef4"
      },
      "source": [
        "**51-Write a Python program to convert a list to a tuple"
      ]
    },
    {
      "cell_type": "code",
      "execution_count": null,
      "id": "210d56d3",
      "metadata": {
        "id": "210d56d3",
        "outputId": "d8bc5b6b-b118-432e-cbaf-c4ccc275e821",
        "colab": {
          "base_uri": "https://localhost:8080/"
        }
      },
      "outputs": [
        {
          "output_type": "stream",
          "name": "stdout",
          "text": [
            "Converted tuple: (1, 2, 3, 4, 5)\n"
          ]
        }
      ],
      "source": [
        "sample_list = [1, 2, 3, 4, 5]\n",
        "\n",
        "converted_tuple = tuple(sample_list)\n",
        "\n",
        "print(\"Converted tuple:\", converted_tuple)\n"
      ]
    },
    {
      "cell_type": "markdown",
      "id": "b1e00ef7",
      "metadata": {
        "id": "b1e00ef7"
      },
      "source": [
        "**52-Write a Python program to reverse a tuple"
      ]
    },
    {
      "cell_type": "code",
      "execution_count": null,
      "id": "f45bfdc7",
      "metadata": {
        "id": "f45bfdc7",
        "outputId": "45ca6ae1-6d9a-4897-b32f-3017cc2bda8d",
        "colab": {
          "base_uri": "https://localhost:8080/"
        }
      },
      "outputs": [
        {
          "output_type": "stream",
          "name": "stdout",
          "text": [
            "Reversed tuple: (5, 4, 3, 2, 1)\n"
          ]
        }
      ],
      "source": [
        "sample_tuple = (1, 2, 3, 4, 5)\n",
        "\n",
        "reversed_tuple = sample_tuple[::-1]\n",
        "\n",
        "print(\"Reversed tuple:\", reversed_tuple)\n"
      ]
    },
    {
      "cell_type": "markdown",
      "id": "3cd347d1",
      "metadata": {
        "id": "3cd347d1"
      },
      "source": [
        "**53-Write a Python program to replace the last value of tuples in a list.\n",
        "Sample list: [(10, 20, 40), (40, 50, 60), (70, 80, 90)]\n",
        "Expected Output: [(10, 20, 100), (40, 50, 100), (70, 80, 100)]"
      ]
    },
    {
      "cell_type": "code",
      "execution_count": null,
      "id": "3c4a2a4c",
      "metadata": {
        "id": "3c4a2a4c",
        "outputId": "72426e24-0e46-401b-f937-29ae404ad053",
        "colab": {
          "base_uri": "https://localhost:8080/"
        }
      },
      "outputs": [
        {
          "output_type": "stream",
          "name": "stdout",
          "text": [
            "Updated list: [(10, 20, 100), (40, 50, 100), (70, 80, 100)]\n"
          ]
        }
      ],
      "source": [
        "sample_list = [(10, 20, 40), (40, 50, 60), (70, 80, 90)]\n",
        "\n",
        "updated_list = [tuple_[:-1] + (100,) for tuple_ in sample_list]\n",
        "\n",
        "print(\"Updated list:\", updated_list)\n"
      ]
    },
    {
      "cell_type": "markdown",
      "id": "76bb7b39",
      "metadata": {
        "id": "76bb7b39"
      },
      "source": [
        "**54-Write a Python program to convert a given string list to a tuple\n",
        "Original string: python 3.0\n",
        "<class 'str'>\n",
        "Convert the said string to a tuple:\n",
        "('p', 'y', 't', 'h', 'o', 'n', '3', '.', '0')"
      ]
    },
    {
      "cell_type": "code",
      "execution_count": null,
      "id": "51951937",
      "metadata": {
        "id": "51951937",
        "outputId": "bc064713-c951-46e8-e91b-c04ff571fe13",
        "colab": {
          "base_uri": "https://localhost:8080/"
        }
      },
      "outputs": [
        {
          "output_type": "stream",
          "name": "stdout",
          "text": [
            "Original string: python 3.0\n",
            "Converted tuple: ('p', 'y', 't', 'h', 'o', 'n', ' ', '3', '.', '0')\n"
          ]
        }
      ],
      "source": [
        "original_string = \"python 3.0\"\n",
        "\n",
        "converted_tuple = tuple(original_string)\n",
        "\n",
        "print(\"Original string:\", original_string)\n",
        "print(\"Converted tuple:\", converted_tuple)\n"
      ]
    },
    {
      "cell_type": "markdown",
      "id": "5a1d5d97",
      "metadata": {
        "id": "5a1d5d97"
      },
      "source": [
        "**55-Write a Python program to calculate the average value of the numbers in a given tuple of tuples"
      ]
    },
    {
      "cell_type": "code",
      "execution_count": null,
      "id": "834e7992",
      "metadata": {
        "id": "834e7992",
        "outputId": "45d1ecb9-2ff6-4a34-d7c7-a4e8286fe83e",
        "colab": {
          "base_uri": "https://localhost:8080/"
        }
      },
      "outputs": [
        {
          "output_type": "stream",
          "name": "stdout",
          "text": [
            "Average value: 5.0\n"
          ]
        }
      ],
      "source": [
        "def calculate_average(tuples):\n",
        "    all_values = [value for tuple_ in tuples for value in tuple_]\n",
        "\n",
        "\n",
        "    average = sum(all_values) / len(all_values) if all_values else 0\n",
        "    return average\n",
        "\n",
        "tuple_of_tuples = ((1, 2, 3), (4, 5, 6), (7, 8, 9))\n",
        "\n",
        "average = calculate_average(tuple_of_tuples)\n",
        "print(\"Average value:\", average)\n"
      ]
    },
    {
      "cell_type": "markdown",
      "id": "51edab9c",
      "metadata": {
        "id": "51edab9c"
      },
      "source": [
        "**56-Write a Python program to add member(s) to a set."
      ]
    },
    {
      "cell_type": "code",
      "execution_count": null,
      "id": "2b65df79",
      "metadata": {
        "id": "2b65df79",
        "outputId": "7ba3b38d-2731-418d-9612-4a03d97a8c50",
        "colab": {
          "base_uri": "https://localhost:8080/"
        }
      },
      "outputs": [
        {
          "output_type": "stream",
          "name": "stdout",
          "text": [
            "Updated set after adding one item: {1, 2, 3, 4}\n",
            "Updated set after adding multiple items: {1, 2, 3, 4, 5, 6, 7}\n"
          ]
        }
      ],
      "source": [
        "def add_to_set(s, *items):\n",
        "    for item in items:\n",
        "        s.add(item)\n",
        "    return s\n",
        "\n",
        "my_set = {1, 2, 3}\n",
        "\n",
        "my_set = add_to_set(my_set, 4)\n",
        "print(\"Updated set after adding one item:\", my_set)\n",
        "\n",
        "my_set = add_to_set(my_set, 5, 6, 7)\n",
        "print(\"Updated set after adding multiple items:\", my_set)\n"
      ]
    },
    {
      "cell_type": "markdown",
      "id": "965590cc",
      "metadata": {
        "id": "965590cc"
      },
      "source": [
        "**57-Write a Python program to remove an item from a set if it is present in the set."
      ]
    },
    {
      "cell_type": "code",
      "execution_count": null,
      "id": "866bab28",
      "metadata": {
        "id": "866bab28",
        "outputId": "762591df-cd63-477a-ce16-1127d3162c68",
        "colab": {
          "base_uri": "https://localhost:8080/"
        }
      },
      "outputs": [
        {
          "output_type": "stream",
          "name": "stdout",
          "text": [
            "Item '3' has been removed.\n",
            "Updated set: {1, 2, 4, 5}\n",
            "Item '6' is not present in the set.\n",
            "Updated set: {1, 2, 4, 5}\n"
          ]
        }
      ],
      "source": [
        "def remove_item_from_set(s, item):\n",
        "    if item in s:\n",
        "        s.remove(item)\n",
        "        print(f\"Item '{item}' has been removed.\")\n",
        "    else:\n",
        "        print(f\"Item '{item}' is not present in the set.\")\n",
        "    return s\n",
        "\n",
        "my_set = {1, 2, 3, 4, 5}\n",
        "\n",
        "my_set = remove_item_from_set(my_set, 3)\n",
        "print(\"Updated set:\", my_set)\n",
        "\n",
        "my_set = remove_item_from_set(my_set, 6)\n",
        "print(\"Updated set:\", my_set)\n"
      ]
    },
    {
      "cell_type": "markdown",
      "id": "2b7cfed1",
      "metadata": {
        "id": "2b7cfed1"
      },
      "source": [
        "**58-Write a Python program to create an intersection,union,difference and symmetric difference of sets"
      ]
    },
    {
      "cell_type": "code",
      "execution_count": null,
      "id": "7f94b7fe",
      "metadata": {
        "id": "7f94b7fe",
        "outputId": "303e0f0b-7653-454c-fa41-123b4a5c932a",
        "colab": {
          "base_uri": "https://localhost:8080/"
        }
      },
      "outputs": [
        {
          "output_type": "stream",
          "name": "stdout",
          "text": [
            "Intersection: {4, 5}\n",
            "Union: {1, 2, 3, 4, 5, 6, 7, 8}\n",
            "Difference (set1 - set2): {1, 2, 3}\n",
            "Symmetric Difference: {1, 2, 3, 6, 7, 8}\n"
          ]
        }
      ],
      "source": [
        "def set_operations(set1, set2):\n",
        "    intersection = set1 & set2\n",
        "\n",
        "    union = set1 | set2\n",
        "\n",
        "    difference = set1 - set2\n",
        "\n",
        "    symmetric_difference = set1 ^ set2\n",
        "\n",
        "    return intersection, union, difference, symmetric_difference\n",
        "\n",
        "set1 = {1, 2, 3, 4, 5}\n",
        "set2 = {4, 5, 6, 7, 8}\n",
        "\n",
        "intersection, union, difference, symmetric_difference = set_operations(set1, set2)\n",
        "\n",
        "print(\"Intersection:\", intersection)\n",
        "print(\"Union:\", union)\n",
        "print(\"Difference (set1 - set2):\", difference)\n",
        "print(\"Symmetric Difference:\", symmetric_difference)\n"
      ]
    },
    {
      "cell_type": "markdown",
      "id": "b94931e2",
      "metadata": {
        "id": "b94931e2"
      },
      "source": [
        "**59-Write a Python program to find the maximum and minimum values in a set"
      ]
    },
    {
      "cell_type": "code",
      "execution_count": null,
      "id": "203f9600",
      "metadata": {
        "id": "203f9600",
        "outputId": "f9b83c9d-a218-412a-fbf7-9ad096f159df",
        "colab": {
          "base_uri": "https://localhost:8080/"
        }
      },
      "outputs": [
        {
          "output_type": "stream",
          "name": "stdout",
          "text": [
            "Maximum value: 99\n",
            "Minimum value: 4\n"
          ]
        }
      ],
      "source": [
        "def find_max_min(s):\n",
        "    max_value = max(s)\n",
        "    min_value = min(s)\n",
        "    return max_value, min_value\n",
        "\n",
        "my_set = {10, 20, 4, 45, 99}\n",
        "max_val, min_val = find_max_min(my_set)\n",
        "\n",
        "print(\"Maximum value:\", max_val)\n",
        "print(\"Minimum value:\", min_val)\n"
      ]
    },
    {
      "cell_type": "markdown",
      "id": "255fd554",
      "metadata": {
        "id": "255fd554"
      },
      "source": [
        "**60- Write a Python program that finds all pairs of elements in a list whose sum is equal to a given value."
      ]
    },
    {
      "cell_type": "code",
      "execution_count": null,
      "id": "c2d94e1f",
      "metadata": {
        "id": "c2d94e1f",
        "outputId": "9b5746c5-bea3-45e8-dfc3-3c650477affd",
        "colab": {
          "base_uri": "https://localhost:8080/"
        }
      },
      "outputs": [
        {
          "output_type": "stream",
          "name": "stdout",
          "text": [
            "Pairs with sum 7 : [(3, 4), (2, 5), (1, 6)]\n"
          ]
        }
      ],
      "source": [
        "def find_pairs_with_sum(lst, target_sum):\n",
        "    pairs = []\n",
        "    seen = set()\n",
        "\n",
        "    for num in lst:\n",
        "        complement = target_sum - num\n",
        "        if complement in seen:\n",
        "            pairs.append((complement, num))\n",
        "        seen.add(num)\n",
        "\n",
        "    return pairs\n",
        "\n",
        "my_list = [1, 2, 3, 4, 5, 6]\n",
        "target = 7\n",
        "result = find_pairs_with_sum(my_list, target)\n",
        "print(\"Pairs with sum\", target, \":\", result)\n"
      ]
    },
    {
      "cell_type": "code",
      "source": [
        "\n"
      ],
      "metadata": {
        "id": "LTyD0z70PSUT"
      },
      "id": "LTyD0z70PSUT",
      "execution_count": null,
      "outputs": []
    }
  ],
  "metadata": {
    "kernelspec": {
      "display_name": "Python 3 (ipykernel)",
      "language": "python",
      "name": "python3"
    },
    "language_info": {
      "codemirror_mode": {
        "name": "ipython",
        "version": 3
      },
      "file_extension": ".py",
      "mimetype": "text/x-python",
      "name": "python",
      "nbconvert_exporter": "python",
      "pygments_lexer": "ipython3",
      "version": "3.9.7"
    },
    "colab": {
      "provenance": []
    }
  },
  "nbformat": 4,
  "nbformat_minor": 5
}